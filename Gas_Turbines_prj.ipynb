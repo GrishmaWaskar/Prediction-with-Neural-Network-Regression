{
 "cells": [
  {
   "cell_type": "code",
   "execution_count": 2,
   "id": "963e6e9a",
   "metadata": {},
   "outputs": [
    {
     "name": "stderr",
     "output_type": "stream",
     "text": [
      "C:\\Users\\grish\\anaconda3\\Lib\\site-packages\\sklearn\\neural_network\\_multilayer_perceptron.py:691: ConvergenceWarning: Stochastic Optimizer: Maximum iterations (200) reached and the optimization hasn't converged yet.\n",
      "  warnings.warn(\n"
     ]
    },
    {
     "name": "stdout",
     "output_type": "stream",
     "text": [
      "Regression Mean Squared Error: 0.3372216598135973\n",
      "Regression R-squared: 0.998653212290183\n",
      "Classification Accuracy: 0.9471409574468085\n"
     ]
    }
   ],
   "source": [
    "import pandas as pd\n",
    "from sklearn.model_selection import train_test_split\n",
    "from sklearn.preprocessing import StandardScaler\n",
    "from sklearn.neural_network import MLPRegressor, MLPClassifier\n",
    "from sklearn.metrics import mean_squared_error, r2_score, accuracy_score\n",
    "\n",
    "# Load the dataset\n",
    "df = pd.read_csv(\"C:/Users/grish/Downloads/Assignment/Assignment/Project  - 12 Neural Network/gas_turbines.csv\")\n",
    "\n",
    "# Define features (ambient variables) and target variable (TEY)\n",
    "X = df[['AT', 'AP', 'AH', 'AFDP', 'GTEP', 'TIT', 'TAT', 'CDP']]\n",
    "y_regression = df['TEY']\n",
    "y_classification = df['TEY'] > df['TEY'].mean()  # Binary classification based on mean TEY\n",
    "\n",
    "# Split the data into training and testing sets (80% train, 20% test)\n",
    "X_train, X_test, y_train_regression, y_test_regression = train_test_split(X, y_regression, test_size=0.2, random_state=42)\n",
    "_, _, y_train_classification, y_test_classification = train_test_split(X, y_classification, test_size=0.2, random_state=42)\n",
    "\n",
    "# Standardize features by removing the mean and scaling to unit variance\n",
    "scaler = StandardScaler()\n",
    "X_train_scaled = scaler.fit_transform(X_train)\n",
    "X_test_scaled = scaler.transform(X_test)\n",
    "\n",
    "# Initialize and train the neural network regressor\n",
    "regressor_model = MLPRegressor(hidden_layer_sizes=(100, 50), random_state=42)\n",
    "regressor_model.fit(X_train_scaled, y_train_regression)\n",
    "\n",
    "# Predict turbine energy yield (TEY) using the test set\n",
    "y_pred_regression = regressor_model.predict(X_test_scaled)\n",
    "\n",
    "# Evaluate the regression model\n",
    "mse = mean_squared_error(y_test_regression, y_pred_regression)\n",
    "r2 = r2_score(y_test_regression, y_pred_regression)\n",
    "\n",
    "print(\"Regression Mean Squared Error:\", mse)\n",
    "print(\"Regression R-squared:\", r2)\n",
    "\n",
    "# Initialize and train the neural network classifier\n",
    "classifier_model = MLPClassifier(hidden_layer_sizes=(100, 50), random_state=42)\n",
    "classifier_model.fit(X_train_scaled, y_train_classification)\n",
    "\n",
    "# Predict turbine energy yield (TEY) classification using the test set\n",
    "y_pred_classification = classifier_model.predict(X_test_scaled)\n",
    "\n",
    "# Evaluate the classification model\n",
    "accuracy = accuracy_score(y_test_classification, y_pred_classification)\n",
    "\n",
    "print(\"Classification Accuracy:\", accuracy)"
   ]
  },
  {
   "cell_type": "code",
   "execution_count": null,
   "id": "d2c9b710",
   "metadata": {},
   "outputs": [],
   "source": []
  }
 ],
 "metadata": {
  "kernelspec": {
   "display_name": "Python 3 (ipykernel)",
   "language": "python",
   "name": "python3"
  },
  "language_info": {
   "codemirror_mode": {
    "name": "ipython",
    "version": 3
   },
   "file_extension": ".py",
   "mimetype": "text/x-python",
   "name": "python",
   "nbconvert_exporter": "python",
   "pygments_lexer": "ipython3",
   "version": "3.11.4"
  }
 },
 "nbformat": 4,
 "nbformat_minor": 5
}
